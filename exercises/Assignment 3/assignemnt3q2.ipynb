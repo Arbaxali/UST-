{
 "cells": [
  {
   "cell_type": "code",
   "execution_count": null,
   "id": "6a961489",
   "metadata": {},
   "outputs": [],
   "source": [
    "from genericpath import exists\n",
    "import os\n",
    "\n",
    "\n",
    "\n",
    "\n",
    "add_location = input(r\"\")\n",
    "\n",
    "\n",
    "# add_loc = ''.join(('r',add_location))\n",
    "# print(add_loc)\n",
    "\n",
    "file_name = 'demofile.txt'\n",
    "\n",
    "pathh = os.path.join(add_location,file_name)\n",
    "if os.path.exists(pathh):\n",
    "    os.remove(pathh)\n",
    "    print(\"%s has been removed successfully\" %file_name)\n",
    "else:\n",
    "    print(\"files doesnt exists\")    "
   ]
  }
 ],
 "metadata": {
  "kernelspec": {
   "display_name": "Python 3 (ipykernel)",
   "language": "python",
   "name": "python3"
  },
  "language_info": {
   "codemirror_mode": {
    "name": "ipython",
    "version": 3
   },
   "file_extension": ".py",
   "mimetype": "text/x-python",
   "name": "python",
   "nbconvert_exporter": "python",
   "pygments_lexer": "ipython3",
   "version": "3.9.7"
  }
 },
 "nbformat": 4,
 "nbformat_minor": 5
}
